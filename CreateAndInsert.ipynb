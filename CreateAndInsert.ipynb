{
  "nbformat": 4,
  "nbformat_minor": 0,
  "metadata": {
    "colab": {
      "provenance": [],
      "authorship_tag": "ABX9TyOTLzmK+dQAKjwhvBriuJhO",
      "include_colab_link": true
    },
    "kernelspec": {
      "name": "python3",
      "display_name": "Python 3"
    },
    "language_info": {
      "name": "python"
    }
  },
  "cells": [
    {
      "cell_type": "markdown",
      "metadata": {
        "id": "view-in-github",
        "colab_type": "text"
      },
      "source": [
        "<a href=\"https://colab.research.google.com/github/ffourwheel/TestSQL-PowerBi/blob/main/CreateAndInsert.ipynb\" target=\"_parent\"><img src=\"https://colab.research.google.com/assets/colab-badge.svg\" alt=\"Open In Colab\"/></a>"
      ]
    },
    {
      "cell_type": "code",
      "execution_count": null,
      "metadata": {
        "colab": {
          "base_uri": "https://localhost:8080/"
        },
        "id": "qIXBZmrH3V1x",
        "outputId": "db6bf312-7e56-495d-a51e-d7fb74573efe"
      },
      "outputs": [
        {
          "output_type": "stream",
          "name": "stdout",
          "text": [
            "Collecting mysql-connector-python\n",
            "  Downloading mysql_connector_python-9.5.0-cp312-cp312-manylinux_2_28_x86_64.whl.metadata (7.5 kB)\n",
            "Downloading mysql_connector_python-9.5.0-cp312-cp312-manylinux_2_28_x86_64.whl (34.1 MB)\n",
            "\u001b[2K   \u001b[90m━━━━━━━━━━━━━━━━━━━━━━━━━━━━━━━━━━━━━━━━\u001b[0m \u001b[32m34.1/34.1 MB\u001b[0m \u001b[31m59.3 MB/s\u001b[0m eta \u001b[36m0:00:00\u001b[0m\n",
            "\u001b[?25hInstalling collected packages: mysql-connector-python\n",
            "Successfully installed mysql-connector-python-9.5.0\n"
          ]
        }
      ],
      "source": [
        "!pip install mysql-connector-python"
      ]
    },
    {
      "cell_type": "code",
      "source": [
        "db_user = \"aie222\"\n",
        "db_password = \"112233\"\n",
        "db_server = \"clickrouting.com\"\n",
        "db_name = \"db_bu_student_aie222\"\n",
        "\n",
        "import mysql.connector\n",
        "conn = mysql.connector.connect(host=db_server, user=db_user, password=db_password, db=db_name)\n",
        "cur = conn.cursor()"
      ],
      "metadata": {
        "id": "OLN2hoYX34Gu"
      },
      "execution_count": null,
      "outputs": []
    },
    {
      "cell_type": "markdown",
      "source": [
        "# CREATE TABLE"
      ],
      "metadata": {
        "id": "6fKw0VTiFhh7"
      }
    },
    {
      "cell_type": "code",
      "source": [
        "cur.execute(\"\"\"\n",
        "CREATE TABLE 1660903871_game_data (\n",
        "    game_id INT PRIMARY KEY,\n",
        "    name VARCHAR(200),\n",
        "    platform VARCHAR(50),\n",
        "    year INT,\n",
        "    genre VARCHAR(50),\n",
        "    publisher VARCHAR(100)\n",
        ");\n",
        "\"\"\")"
      ],
      "metadata": {
        "id": "ynEwpXlD35ZP"
      },
      "execution_count": null,
      "outputs": []
    },
    {
      "cell_type": "code",
      "source": [
        "cur.execute(\"\"\"\n",
        "CREATE TABLE 1660903871_sales_data (\n",
        "    sale_id INT PRIMARY KEY,\n",
        "    game_id INT,\n",
        "    region VARCHAR(20),\n",
        "    units_sold DECIMAL(6,2),\n",
        "    sale_year INT,\n",
        "    price_usd DECIMAL(6,2)\n",
        ");\n",
        "\"\"\")"
      ],
      "metadata": {
        "id": "WEZDrcjRA1DH"
      },
      "execution_count": null,
      "outputs": []
    },
    {
      "cell_type": "markdown",
      "source": [
        "# INSERT INFO"
      ],
      "metadata": {
        "id": "_Im12kw8Fnhw"
      }
    },
    {
      "cell_type": "code",
      "source": [
        "from google.colab import files\n",
        "uploaded = files.upload()\n",
        "\n",
        "import csv\n",
        "with open(\"game_data_clean.csv\", newline='', encoding='utf-8') as f:\n",
        "    reader = csv.reader(f)\n",
        "    header = next(reader)\n",
        "\n",
        "    for row in reader:\n",
        "        row = [None if val == '' else val for val in row]\n",
        "        cur.execute(\"\"\"\n",
        "            INSERT INTO 1660903871_game_data (game_id, name, platform, year, genre, publisher)\n",
        "            VALUES (%s, %s, %s, %s, %s, %s)\n",
        "        \"\"\", row)\n",
        "\n",
        "conn.commit()"
      ],
      "metadata": {
        "colab": {
          "base_uri": "https://localhost:8080/",
          "height": 73
        },
        "id": "QS82u8BrA4Jx",
        "outputId": "b3fa49e3-34c9-4dde-c353-f9ed66864116"
      },
      "execution_count": null,
      "outputs": [
        {
          "output_type": "display_data",
          "data": {
            "text/plain": [
              "<IPython.core.display.HTML object>"
            ],
            "text/html": [
              "\n",
              "     <input type=\"file\" id=\"files-301bb74e-d163-407b-a5d1-bfe3ac05b298\" name=\"files[]\" multiple disabled\n",
              "        style=\"border:none\" />\n",
              "     <output id=\"result-301bb74e-d163-407b-a5d1-bfe3ac05b298\">\n",
              "      Upload widget is only available when the cell has been executed in the\n",
              "      current browser session. Please rerun this cell to enable.\n",
              "      </output>\n",
              "      <script>// Copyright 2017 Google LLC\n",
              "//\n",
              "// Licensed under the Apache License, Version 2.0 (the \"License\");\n",
              "// you may not use this file except in compliance with the License.\n",
              "// You may obtain a copy of the License at\n",
              "//\n",
              "//      http://www.apache.org/licenses/LICENSE-2.0\n",
              "//\n",
              "// Unless required by applicable law or agreed to in writing, software\n",
              "// distributed under the License is distributed on an \"AS IS\" BASIS,\n",
              "// WITHOUT WARRANTIES OR CONDITIONS OF ANY KIND, either express or implied.\n",
              "// See the License for the specific language governing permissions and\n",
              "// limitations under the License.\n",
              "\n",
              "/**\n",
              " * @fileoverview Helpers for google.colab Python module.\n",
              " */\n",
              "(function(scope) {\n",
              "function span(text, styleAttributes = {}) {\n",
              "  const element = document.createElement('span');\n",
              "  element.textContent = text;\n",
              "  for (const key of Object.keys(styleAttributes)) {\n",
              "    element.style[key] = styleAttributes[key];\n",
              "  }\n",
              "  return element;\n",
              "}\n",
              "\n",
              "// Max number of bytes which will be uploaded at a time.\n",
              "const MAX_PAYLOAD_SIZE = 100 * 1024;\n",
              "\n",
              "function _uploadFiles(inputId, outputId) {\n",
              "  const steps = uploadFilesStep(inputId, outputId);\n",
              "  const outputElement = document.getElementById(outputId);\n",
              "  // Cache steps on the outputElement to make it available for the next call\n",
              "  // to uploadFilesContinue from Python.\n",
              "  outputElement.steps = steps;\n",
              "\n",
              "  return _uploadFilesContinue(outputId);\n",
              "}\n",
              "\n",
              "// This is roughly an async generator (not supported in the browser yet),\n",
              "// where there are multiple asynchronous steps and the Python side is going\n",
              "// to poll for completion of each step.\n",
              "// This uses a Promise to block the python side on completion of each step,\n",
              "// then passes the result of the previous step as the input to the next step.\n",
              "function _uploadFilesContinue(outputId) {\n",
              "  const outputElement = document.getElementById(outputId);\n",
              "  const steps = outputElement.steps;\n",
              "\n",
              "  const next = steps.next(outputElement.lastPromiseValue);\n",
              "  return Promise.resolve(next.value.promise).then((value) => {\n",
              "    // Cache the last promise value to make it available to the next\n",
              "    // step of the generator.\n",
              "    outputElement.lastPromiseValue = value;\n",
              "    return next.value.response;\n",
              "  });\n",
              "}\n",
              "\n",
              "/**\n",
              " * Generator function which is called between each async step of the upload\n",
              " * process.\n",
              " * @param {string} inputId Element ID of the input file picker element.\n",
              " * @param {string} outputId Element ID of the output display.\n",
              " * @return {!Iterable<!Object>} Iterable of next steps.\n",
              " */\n",
              "function* uploadFilesStep(inputId, outputId) {\n",
              "  const inputElement = document.getElementById(inputId);\n",
              "  inputElement.disabled = false;\n",
              "\n",
              "  const outputElement = document.getElementById(outputId);\n",
              "  outputElement.innerHTML = '';\n",
              "\n",
              "  const pickedPromise = new Promise((resolve) => {\n",
              "    inputElement.addEventListener('change', (e) => {\n",
              "      resolve(e.target.files);\n",
              "    });\n",
              "  });\n",
              "\n",
              "  const cancel = document.createElement('button');\n",
              "  inputElement.parentElement.appendChild(cancel);\n",
              "  cancel.textContent = 'Cancel upload';\n",
              "  const cancelPromise = new Promise((resolve) => {\n",
              "    cancel.onclick = () => {\n",
              "      resolve(null);\n",
              "    };\n",
              "  });\n",
              "\n",
              "  // Wait for the user to pick the files.\n",
              "  const files = yield {\n",
              "    promise: Promise.race([pickedPromise, cancelPromise]),\n",
              "    response: {\n",
              "      action: 'starting',\n",
              "    }\n",
              "  };\n",
              "\n",
              "  cancel.remove();\n",
              "\n",
              "  // Disable the input element since further picks are not allowed.\n",
              "  inputElement.disabled = true;\n",
              "\n",
              "  if (!files) {\n",
              "    return {\n",
              "      response: {\n",
              "        action: 'complete',\n",
              "      }\n",
              "    };\n",
              "  }\n",
              "\n",
              "  for (const file of files) {\n",
              "    const li = document.createElement('li');\n",
              "    li.append(span(file.name, {fontWeight: 'bold'}));\n",
              "    li.append(span(\n",
              "        `(${file.type || 'n/a'}) - ${file.size} bytes, ` +\n",
              "        `last modified: ${\n",
              "            file.lastModifiedDate ? file.lastModifiedDate.toLocaleDateString() :\n",
              "                                    'n/a'} - `));\n",
              "    const percent = span('0% done');\n",
              "    li.appendChild(percent);\n",
              "\n",
              "    outputElement.appendChild(li);\n",
              "\n",
              "    const fileDataPromise = new Promise((resolve) => {\n",
              "      const reader = new FileReader();\n",
              "      reader.onload = (e) => {\n",
              "        resolve(e.target.result);\n",
              "      };\n",
              "      reader.readAsArrayBuffer(file);\n",
              "    });\n",
              "    // Wait for the data to be ready.\n",
              "    let fileData = yield {\n",
              "      promise: fileDataPromise,\n",
              "      response: {\n",
              "        action: 'continue',\n",
              "      }\n",
              "    };\n",
              "\n",
              "    // Use a chunked sending to avoid message size limits. See b/62115660.\n",
              "    let position = 0;\n",
              "    do {\n",
              "      const length = Math.min(fileData.byteLength - position, MAX_PAYLOAD_SIZE);\n",
              "      const chunk = new Uint8Array(fileData, position, length);\n",
              "      position += length;\n",
              "\n",
              "      const base64 = btoa(String.fromCharCode.apply(null, chunk));\n",
              "      yield {\n",
              "        response: {\n",
              "          action: 'append',\n",
              "          file: file.name,\n",
              "          data: base64,\n",
              "        },\n",
              "      };\n",
              "\n",
              "      let percentDone = fileData.byteLength === 0 ?\n",
              "          100 :\n",
              "          Math.round((position / fileData.byteLength) * 100);\n",
              "      percent.textContent = `${percentDone}% done`;\n",
              "\n",
              "    } while (position < fileData.byteLength);\n",
              "  }\n",
              "\n",
              "  // All done.\n",
              "  yield {\n",
              "    response: {\n",
              "      action: 'complete',\n",
              "    }\n",
              "  };\n",
              "}\n",
              "\n",
              "scope.google = scope.google || {};\n",
              "scope.google.colab = scope.google.colab || {};\n",
              "scope.google.colab._files = {\n",
              "  _uploadFiles,\n",
              "  _uploadFilesContinue,\n",
              "};\n",
              "})(self);\n",
              "</script> "
            ]
          },
          "metadata": {}
        },
        {
          "output_type": "stream",
          "name": "stdout",
          "text": [
            "Saving game_data_clean.csv to game_data_clean (6).csv\n"
          ]
        }
      ]
    },
    {
      "cell_type": "code",
      "source": [
        "from google.colab import files\n",
        "uploaded = files.upload()\n",
        "\n",
        "import csv\n",
        "with open(\"sales_data_clean.csv\", newline='', encoding='utf-8') as f:\n",
        "    reader = csv.reader(f)\n",
        "    header = next(reader)\n",
        "\n",
        "    for row in reader:\n",
        "        row = [None if val == '' else val for val in row]\n",
        "        cur.execute(\"\"\"\n",
        "            INSERT INTO 1660903871_sales_data (sale_id, game_id, region, units_sold, sale_year, price_usd)\n",
        "            VALUES (%s, %s, %s, %s, %s, %s)\n",
        "        \"\"\", row)\n",
        "\n",
        "conn.commit()"
      ],
      "metadata": {
        "colab": {
          "base_uri": "https://localhost:8080/",
          "height": 73
        },
        "id": "dylHjTZrA8Qf",
        "outputId": "bb587217-bcd8-49a8-e938-31dc1a1e459a"
      },
      "execution_count": null,
      "outputs": [
        {
          "output_type": "display_data",
          "data": {
            "text/plain": [
              "<IPython.core.display.HTML object>"
            ],
            "text/html": [
              "\n",
              "     <input type=\"file\" id=\"files-5e653439-40de-4a99-a779-4518380d057d\" name=\"files[]\" multiple disabled\n",
              "        style=\"border:none\" />\n",
              "     <output id=\"result-5e653439-40de-4a99-a779-4518380d057d\">\n",
              "      Upload widget is only available when the cell has been executed in the\n",
              "      current browser session. Please rerun this cell to enable.\n",
              "      </output>\n",
              "      <script>// Copyright 2017 Google LLC\n",
              "//\n",
              "// Licensed under the Apache License, Version 2.0 (the \"License\");\n",
              "// you may not use this file except in compliance with the License.\n",
              "// You may obtain a copy of the License at\n",
              "//\n",
              "//      http://www.apache.org/licenses/LICENSE-2.0\n",
              "//\n",
              "// Unless required by applicable law or agreed to in writing, software\n",
              "// distributed under the License is distributed on an \"AS IS\" BASIS,\n",
              "// WITHOUT WARRANTIES OR CONDITIONS OF ANY KIND, either express or implied.\n",
              "// See the License for the specific language governing permissions and\n",
              "// limitations under the License.\n",
              "\n",
              "/**\n",
              " * @fileoverview Helpers for google.colab Python module.\n",
              " */\n",
              "(function(scope) {\n",
              "function span(text, styleAttributes = {}) {\n",
              "  const element = document.createElement('span');\n",
              "  element.textContent = text;\n",
              "  for (const key of Object.keys(styleAttributes)) {\n",
              "    element.style[key] = styleAttributes[key];\n",
              "  }\n",
              "  return element;\n",
              "}\n",
              "\n",
              "// Max number of bytes which will be uploaded at a time.\n",
              "const MAX_PAYLOAD_SIZE = 100 * 1024;\n",
              "\n",
              "function _uploadFiles(inputId, outputId) {\n",
              "  const steps = uploadFilesStep(inputId, outputId);\n",
              "  const outputElement = document.getElementById(outputId);\n",
              "  // Cache steps on the outputElement to make it available for the next call\n",
              "  // to uploadFilesContinue from Python.\n",
              "  outputElement.steps = steps;\n",
              "\n",
              "  return _uploadFilesContinue(outputId);\n",
              "}\n",
              "\n",
              "// This is roughly an async generator (not supported in the browser yet),\n",
              "// where there are multiple asynchronous steps and the Python side is going\n",
              "// to poll for completion of each step.\n",
              "// This uses a Promise to block the python side on completion of each step,\n",
              "// then passes the result of the previous step as the input to the next step.\n",
              "function _uploadFilesContinue(outputId) {\n",
              "  const outputElement = document.getElementById(outputId);\n",
              "  const steps = outputElement.steps;\n",
              "\n",
              "  const next = steps.next(outputElement.lastPromiseValue);\n",
              "  return Promise.resolve(next.value.promise).then((value) => {\n",
              "    // Cache the last promise value to make it available to the next\n",
              "    // step of the generator.\n",
              "    outputElement.lastPromiseValue = value;\n",
              "    return next.value.response;\n",
              "  });\n",
              "}\n",
              "\n",
              "/**\n",
              " * Generator function which is called between each async step of the upload\n",
              " * process.\n",
              " * @param {string} inputId Element ID of the input file picker element.\n",
              " * @param {string} outputId Element ID of the output display.\n",
              " * @return {!Iterable<!Object>} Iterable of next steps.\n",
              " */\n",
              "function* uploadFilesStep(inputId, outputId) {\n",
              "  const inputElement = document.getElementById(inputId);\n",
              "  inputElement.disabled = false;\n",
              "\n",
              "  const outputElement = document.getElementById(outputId);\n",
              "  outputElement.innerHTML = '';\n",
              "\n",
              "  const pickedPromise = new Promise((resolve) => {\n",
              "    inputElement.addEventListener('change', (e) => {\n",
              "      resolve(e.target.files);\n",
              "    });\n",
              "  });\n",
              "\n",
              "  const cancel = document.createElement('button');\n",
              "  inputElement.parentElement.appendChild(cancel);\n",
              "  cancel.textContent = 'Cancel upload';\n",
              "  const cancelPromise = new Promise((resolve) => {\n",
              "    cancel.onclick = () => {\n",
              "      resolve(null);\n",
              "    };\n",
              "  });\n",
              "\n",
              "  // Wait for the user to pick the files.\n",
              "  const files = yield {\n",
              "    promise: Promise.race([pickedPromise, cancelPromise]),\n",
              "    response: {\n",
              "      action: 'starting',\n",
              "    }\n",
              "  };\n",
              "\n",
              "  cancel.remove();\n",
              "\n",
              "  // Disable the input element since further picks are not allowed.\n",
              "  inputElement.disabled = true;\n",
              "\n",
              "  if (!files) {\n",
              "    return {\n",
              "      response: {\n",
              "        action: 'complete',\n",
              "      }\n",
              "    };\n",
              "  }\n",
              "\n",
              "  for (const file of files) {\n",
              "    const li = document.createElement('li');\n",
              "    li.append(span(file.name, {fontWeight: 'bold'}));\n",
              "    li.append(span(\n",
              "        `(${file.type || 'n/a'}) - ${file.size} bytes, ` +\n",
              "        `last modified: ${\n",
              "            file.lastModifiedDate ? file.lastModifiedDate.toLocaleDateString() :\n",
              "                                    'n/a'} - `));\n",
              "    const percent = span('0% done');\n",
              "    li.appendChild(percent);\n",
              "\n",
              "    outputElement.appendChild(li);\n",
              "\n",
              "    const fileDataPromise = new Promise((resolve) => {\n",
              "      const reader = new FileReader();\n",
              "      reader.onload = (e) => {\n",
              "        resolve(e.target.result);\n",
              "      };\n",
              "      reader.readAsArrayBuffer(file);\n",
              "    });\n",
              "    // Wait for the data to be ready.\n",
              "    let fileData = yield {\n",
              "      promise: fileDataPromise,\n",
              "      response: {\n",
              "        action: 'continue',\n",
              "      }\n",
              "    };\n",
              "\n",
              "    // Use a chunked sending to avoid message size limits. See b/62115660.\n",
              "    let position = 0;\n",
              "    do {\n",
              "      const length = Math.min(fileData.byteLength - position, MAX_PAYLOAD_SIZE);\n",
              "      const chunk = new Uint8Array(fileData, position, length);\n",
              "      position += length;\n",
              "\n",
              "      const base64 = btoa(String.fromCharCode.apply(null, chunk));\n",
              "      yield {\n",
              "        response: {\n",
              "          action: 'append',\n",
              "          file: file.name,\n",
              "          data: base64,\n",
              "        },\n",
              "      };\n",
              "\n",
              "      let percentDone = fileData.byteLength === 0 ?\n",
              "          100 :\n",
              "          Math.round((position / fileData.byteLength) * 100);\n",
              "      percent.textContent = `${percentDone}% done`;\n",
              "\n",
              "    } while (position < fileData.byteLength);\n",
              "  }\n",
              "\n",
              "  // All done.\n",
              "  yield {\n",
              "    response: {\n",
              "      action: 'complete',\n",
              "    }\n",
              "  };\n",
              "}\n",
              "\n",
              "scope.google = scope.google || {};\n",
              "scope.google.colab = scope.google.colab || {};\n",
              "scope.google.colab._files = {\n",
              "  _uploadFiles,\n",
              "  _uploadFilesContinue,\n",
              "};\n",
              "})(self);\n",
              "</script> "
            ]
          },
          "metadata": {}
        },
        {
          "output_type": "stream",
          "name": "stdout",
          "text": [
            "Saving sales_data_clean.csv to sales_data_clean (4).csv\n"
          ]
        }
      ]
    },
    {
      "cell_type": "code",
      "source": [
        "sql = '''\n",
        "SELECT * FROM 1660903871_sales_data;\n",
        "'''\n",
        "import pandas as pd\n",
        "cur.execute(sql)\n",
        "rows = cur.fetchall()\n",
        "column_names = [i[0] for i in cur.description]\n",
        "df = pd.DataFrame(rows, columns=column_names)\n",
        "print(df)"
      ],
      "metadata": {
        "colab": {
          "base_uri": "https://localhost:8080/"
        },
        "id": "Kcaz03mFWM9S",
        "outputId": "83ce3e1c-8633-4150-d825-5bdf9f8a4459"
      },
      "execution_count": null,
      "outputs": [
        {
          "output_type": "stream",
          "name": "stdout",
          "text": [
            "     sale_id  game_id region units_sold  sale_year price_usd\n",
            "0          1      156     JP       4.54       2004     70.38\n",
            "1          2       35     EU       0.78       2011     22.55\n",
            "2          3      189     EU       2.71       2024     66.00\n",
            "3          4       93     NA       2.11       2010     48.69\n",
            "4          5      182     EU       1.80       2024     37.76\n",
            "..       ...      ...    ...        ...        ...       ...\n",
            "589      596      130  Other       1.45       2018     38.48\n",
            "590      597       60  Other       3.56       2020     32.98\n",
            "591      598      151     JP       0.41       2000     41.78\n",
            "592      599       31  Other       4.21       2004     63.37\n",
            "593      600        5     EU       0.12       2015     18.82\n",
            "\n",
            "[594 rows x 6 columns]\n"
          ]
        }
      ]
    },
    {
      "cell_type": "code",
      "source": [
        "## ยอดขายรวมตาม Platform\n",
        "sql = \"\"\"\n",
        "SELECT g.platform, SUM(s.units_sold) AS total_sales\n",
        "FROM 1660903871_sales_data AS s\n",
        "JOIN 1660903871_game_data AS g\n",
        "ON s.game_id = g.game_id\n",
        "GROUP BY g.platform\n",
        "ORDER BY total_sales DESC;\n",
        "\"\"\"\n",
        "\n",
        "import pandas as pd\n",
        "cur.execute(sql)\n",
        "rows = cur.fetchall()\n",
        "column_names = [i[0] for i in cur.description]\n",
        "df_games = pd.DataFrame(rows, columns=column_names)\n",
        "df_games['total_sales'] = df_games['total_sales'].astype(int)\n",
        "print('ยอดขายรวมตาม Platform')\n",
        "print(df_games)"
      ],
      "metadata": {
        "colab": {
          "base_uri": "https://localhost:8080/"
        },
        "id": "71b3klNCA91D",
        "outputId": "7f2932ea-5f10-4410-c583-ce8e3f8ad68d"
      },
      "execution_count": null,
      "outputs": [
        {
          "output_type": "stream",
          "name": "stdout",
          "text": [
            "ยอดขายรวมตาม Platform\n",
            "  platform  total_sales\n",
            "0      PS4          344\n",
            "1      3DS          324\n",
            "2     X360          267\n",
            "3   Switch          260\n",
            "4       PC          233\n"
          ]
        }
      ]
    },
    {
      "cell_type": "code",
      "source": [
        "## ราคาเฉลี่ยต่อประเภทเกม\n",
        "sql = \"\"\"\n",
        "SELECT g.genre, ROUND(AVG(s.price_usd), 2) AS avg_price_usd\n",
        "FROM 1660903871_sales_data AS s\n",
        "JOIN 1660903871_game_data AS g\n",
        "ON s.game_id = g.game_id\n",
        "GROUP BY g.genre\n",
        "ORDER BY avg_price_usd DESC;\n",
        "\"\"\"\n",
        "cur.execute(sql)\n",
        "rows = cur.fetchall()\n",
        "column_names = [i[0] for i in cur.description]\n",
        "df = pd.DataFrame(rows, columns=column_names)\n",
        "print('ราคาเฉลี่ยต่อประเภทเกม')\n",
        "print(df)"
      ],
      "metadata": {
        "colab": {
          "base_uri": "https://localhost:8080/"
        },
        "id": "o-F98d_WJWEm",
        "outputId": "5a7a0b19-b63f-43f7-aa57-69b875718d77"
      },
      "execution_count": null,
      "outputs": [
        {
          "output_type": "stream",
          "name": "stdout",
          "text": [
            "ราคาเฉลี่ยต่อประเภทเกม\n",
            "     genre avg_price_usd\n",
            "0   Sports         46.57\n",
            "1      RPG         44.93\n",
            "2   Racing         44.31\n",
            "3  Shooter         43.47\n",
            "4   Action         42.62\n"
          ]
        }
      ]
    },
    {
      "cell_type": "code",
      "source": [
        "## ยอดขายตามปีของแต่ละ Platform\n",
        "#PS4\n",
        "sql = \"\"\"\n",
        "SELECT\n",
        "    g.platform,\n",
        "    s.sale_year AS year,\n",
        "    ROUND(SUM(s.units_sold), 2) AS total_units_sold,\n",
        "    ROUND(SUM(s.units_sold * s.price_usd), 2) AS total_revenue_usd\n",
        "FROM 1660903871_sales_data s\n",
        "JOIN 1660903871_game_data g ON s.game_id = g.game_id\n",
        "WHERE g.platform IN ('PS4')\n",
        "GROUP BY g.platform, s.sale_year\n",
        "ORDER BY s.sale_year, g.platform;\n",
        "\"\"\"\n",
        "\n",
        "import pandas as pd\n",
        "cur.execute(sql)\n",
        "rows = cur.fetchall()\n",
        "column_names = [i[0] for i in cur.description]\n",
        "df_platforms = pd.DataFrame(rows, columns=column_names)\n",
        "print('ยอดขายแต่ละปีของ PS4')\n",
        "print(df_platforms)"
      ],
      "metadata": {
        "colab": {
          "base_uri": "https://localhost:8080/"
        },
        "id": "RjeHCTq5KAs1",
        "outputId": "972cf566-07cc-49c6-de08-3e105a7ed700"
      },
      "execution_count": null,
      "outputs": [
        {
          "output_type": "stream",
          "name": "stdout",
          "text": [
            "ยอดขายตามปีของแต่ละ Platform\n",
            "   platform  year total_units_sold total_revenue_usd\n",
            "0       PS4  2000            10.66            416.09\n",
            "1       PS4  2001             2.53            182.84\n",
            "2       PS4  2002            10.72            415.08\n",
            "3       PS4  2003            19.55           1073.99\n",
            "4       PS4  2004            13.33            792.85\n",
            "5       PS4  2005            18.10            677.94\n",
            "6       PS4  2006             8.55            526.38\n",
            "7       PS4  2007             3.59            115.80\n",
            "8       PS4  2008            12.07            739.51\n",
            "9       PS4  2009            17.79            759.18\n",
            "10      PS4  2010            26.91           1322.82\n",
            "11      PS4  2011             8.83            427.00\n",
            "12      PS4  2012            11.56            666.84\n",
            "13      PS4  2013             6.38            253.12\n",
            "14      PS4  2014            20.68            854.00\n",
            "15      PS4  2015            16.63            722.86\n",
            "16      PS4  2016            24.87           1277.23\n",
            "17      PS4  2017             8.11            238.19\n",
            "18      PS4  2018             7.87            136.76\n",
            "19      PS4  2019            13.92            637.76\n",
            "20      PS4  2020            12.15            398.07\n",
            "21      PS4  2021            15.18            443.00\n",
            "22      PS4  2022            15.40            814.56\n",
            "23      PS4  2023            12.09            488.76\n",
            "24      PS4  2024            26.74           1184.15\n"
          ]
        }
      ]
    },
    {
      "cell_type": "code",
      "source": [
        "#3DS\n",
        "sql = \"\"\"\n",
        "SELECT\n",
        "    g.platform,\n",
        "    s.sale_year AS year,\n",
        "    ROUND(SUM(s.units_sold), 2) AS total_units_sold,\n",
        "    ROUND(SUM(s.units_sold * s.price_usd), 2) AS total_revenue_usd\n",
        "FROM 1660903871_sales_data s\n",
        "JOIN 1660903871_game_data g ON s.game_id = g.game_id\n",
        "WHERE g.platform IN ('3DS')\n",
        "GROUP BY g.platform, s.sale_year\n",
        "ORDER BY s.sale_year, g.platform;\n",
        "\"\"\"\n",
        "\n",
        "import pandas as pd\n",
        "cur.execute(sql)\n",
        "rows = cur.fetchall()\n",
        "column_names = [i[0] for i in cur.description]\n",
        "df_platforms = pd.DataFrame(rows, columns=column_names)\n",
        "print('ยอดขายแต่ละปีของ 3DS')\n",
        "print(df_platforms)"
      ],
      "metadata": {
        "colab": {
          "base_uri": "https://localhost:8080/"
        },
        "id": "qtru3ucSyaJt",
        "outputId": "131eac3d-77bf-436e-b3fa-f84c7b175e29"
      },
      "execution_count": null,
      "outputs": [
        {
          "output_type": "stream",
          "name": "stdout",
          "text": [
            "ยอดขายแต่ละปีของ 3DS\n",
            "   platform  year total_units_sold total_revenue_usd\n",
            "0       3DS  2000            10.11            349.45\n",
            "1       3DS  2001            22.49           1093.79\n",
            "2       3DS  2002             8.51            279.21\n",
            "3       3DS  2003            25.71           1102.85\n",
            "4       3DS  2004            15.64            757.34\n",
            "5       3DS  2005             8.70            528.25\n",
            "6       3DS  2006             9.11            381.62\n",
            "7       3DS  2007            11.13            391.53\n",
            "8       3DS  2008            19.22            597.91\n",
            "9       3DS  2009             4.12            147.60\n",
            "10      3DS  2010            12.91            573.43\n",
            "11      3DS  2011            14.01            586.03\n",
            "12      3DS  2012            13.84            315.42\n",
            "13      3DS  2013             9.47            503.76\n",
            "14      3DS  2014            16.73            790.43\n",
            "15      3DS  2015            13.20            485.38\n",
            "16      3DS  2016            12.20            285.07\n",
            "17      3DS  2017            20.14            782.25\n",
            "18      3DS  2018            17.77            897.54\n",
            "19      3DS  2019            12.45            377.63\n",
            "20      3DS  2020             1.94             81.21\n",
            "21      3DS  2021             3.78             76.13\n",
            "22      3DS  2022            11.66            520.95\n",
            "23      3DS  2023            14.05            721.69\n",
            "24      3DS  2024            15.76            729.92\n"
          ]
        }
      ]
    },
    {
      "cell_type": "code",
      "source": [
        "#Switch\n",
        "sql = \"\"\"\n",
        "SELECT\n",
        "    g.platform,\n",
        "    s.sale_year AS year,\n",
        "    ROUND(SUM(s.units_sold), 2) AS total_units_sold,\n",
        "    ROUND(SUM(s.units_sold * s.price_usd), 2) AS total_revenue_usd\n",
        "FROM 1660903871_sales_data s\n",
        "JOIN 1660903871_game_data g ON s.game_id = g.game_id\n",
        "WHERE g.platform IN ('Switch')\n",
        "GROUP BY g.platform, s.sale_year\n",
        "ORDER BY s.sale_year, g.platform;\n",
        "\"\"\"\n",
        "\n",
        "import pandas as pd\n",
        "cur.execute(sql)\n",
        "rows = cur.fetchall()\n",
        "column_names = [i[0] for i in cur.description]\n",
        "df_platforms = pd.DataFrame(rows, columns=column_names)\n",
        "print('ยอดขายแต่ละปีของ Switch')\n",
        "print(df_platforms)"
      ],
      "metadata": {
        "colab": {
          "base_uri": "https://localhost:8080/"
        },
        "id": "CWjJAggCynPM",
        "outputId": "1786f6c5-2024-44a7-93d7-f17ee4d8d103"
      },
      "execution_count": null,
      "outputs": [
        {
          "output_type": "stream",
          "name": "stdout",
          "text": [
            "ยอดขายแต่ละปีของ Switch\n",
            "   platform  year total_units_sold total_revenue_usd\n",
            "0    Switch  2000            14.70            676.74\n",
            "1    Switch  2001            14.18            653.33\n",
            "2    Switch  2002             3.42            156.47\n",
            "3    Switch  2003            20.82           1158.62\n",
            "4    Switch  2004            11.64            532.50\n",
            "5    Switch  2005            19.50            804.26\n",
            "6    Switch  2006             3.51            114.31\n",
            "7    Switch  2007             4.69            225.68\n",
            "8    Switch  2008             6.00            244.03\n",
            "9    Switch  2009             9.33            498.76\n",
            "10   Switch  2010            15.70            655.43\n",
            "11   Switch  2011             6.14            325.83\n",
            "12   Switch  2012            15.13            787.30\n",
            "13   Switch  2013             1.18             58.41\n",
            "14   Switch  2014             6.26            292.51\n",
            "15   Switch  2015             7.44            393.52\n",
            "16   Switch  2016            16.82            868.47\n",
            "17   Switch  2017             7.16            252.43\n",
            "18   Switch  2018            13.50            536.91\n",
            "19   Switch  2019             8.64            234.97\n",
            "20   Switch  2020             9.47            469.02\n",
            "21   Switch  2021             9.80            558.58\n",
            "22   Switch  2022            14.96            417.47\n",
            "23   Switch  2023             9.66            649.52\n",
            "24   Switch  2024            10.47            390.36\n"
          ]
        }
      ]
    },
    {
      "cell_type": "code",
      "source": [
        "#X360\n",
        "sql = \"\"\"\n",
        "SELECT\n",
        "    g.platform,\n",
        "    s.sale_year AS year,\n",
        "    ROUND(SUM(s.units_sold), 2) AS total_units_sold,\n",
        "    ROUND(SUM(s.units_sold * s.price_usd), 2) AS total_revenue_usd\n",
        "FROM 1660903871_sales_data s\n",
        "JOIN 1660903871_game_data g ON s.game_id = g.game_id\n",
        "WHERE g.platform IN ('X360')\n",
        "GROUP BY g.platform, s.sale_year\n",
        "ORDER BY s.sale_year, g.platform;\n",
        "\"\"\"\n",
        "\n",
        "import pandas as pd\n",
        "cur.execute(sql)\n",
        "rows = cur.fetchall()\n",
        "column_names = [i[0] for i in cur.description]\n",
        "df_platforms = pd.DataFrame(rows, columns=column_names)\n",
        "print('ยอดขายแต่ละปีของ X360')\n",
        "print(df_platforms)"
      ],
      "metadata": {
        "colab": {
          "base_uri": "https://localhost:8080/"
        },
        "id": "_tggTnAiyxqZ",
        "outputId": "e186397a-48b5-4cca-e3fa-16863da31283"
      },
      "execution_count": null,
      "outputs": [
        {
          "output_type": "stream",
          "name": "stdout",
          "text": [
            "ยอดขายแต่ละปีของ X360\n",
            "   platform  year total_units_sold total_revenue_usd\n",
            "0      X360  2000            11.14            301.24\n",
            "1      X360  2001             6.13            297.63\n",
            "2      X360  2002            10.55            627.96\n",
            "3      X360  2003             2.84            122.60\n",
            "4      X360  2004            19.49           1010.38\n",
            "5      X360  2005            12.46            608.63\n",
            "6      X360  2006             2.34             24.78\n",
            "7      X360  2007            16.97            906.27\n",
            "8      X360  2008            19.59            966.17\n",
            "9      X360  2009             6.93            282.01\n",
            "10     X360  2010            11.35            391.85\n",
            "11     X360  2011             5.68            185.96\n",
            "12     X360  2012            16.56            605.36\n",
            "13     X360  2013             7.25            123.35\n",
            "14     X360  2014            16.55            949.44\n",
            "15     X360  2015             7.93            617.12\n",
            "16     X360  2016             5.11            276.73\n",
            "17     X360  2017             3.74             68.07\n",
            "18     X360  2018             6.90            346.76\n",
            "19     X360  2019            17.41            683.87\n",
            "20     X360  2020            17.54            574.65\n",
            "21     X360  2021             5.06            210.12\n",
            "22     X360  2022             7.34            262.75\n",
            "23     X360  2023            18.43            709.34\n",
            "24     X360  2024            11.80            577.51\n"
          ]
        }
      ]
    },
    {
      "cell_type": "code",
      "source": [
        "#PC\n",
        "sql = \"\"\"\n",
        "SELECT\n",
        "    g.platform,\n",
        "    s.sale_year AS year,\n",
        "    ROUND(SUM(s.units_sold), 2) AS total_units_sold,\n",
        "    ROUND(SUM(s.units_sold * s.price_usd), 2) AS total_revenue_usd\n",
        "FROM 1660903871_sales_data s\n",
        "JOIN 1660903871_game_data g ON s.game_id = g.game_id\n",
        "WHERE g.platform IN ('PC')\n",
        "GROUP BY g.platform, s.sale_year\n",
        "ORDER BY s.sale_year, g.platform;\n",
        "\"\"\"\n",
        "\n",
        "import pandas as pd\n",
        "cur.execute(sql)\n",
        "rows = cur.fetchall()\n",
        "column_names = [i[0] for i in cur.description]\n",
        "df_platforms = pd.DataFrame(rows, columns=column_names)\n",
        "print('ยอดขายแต่ละปีของ PC')\n",
        "print(df_platforms)"
      ],
      "metadata": {
        "colab": {
          "base_uri": "https://localhost:8080/"
        },
        "id": "ae3HLHSIy9Xu",
        "outputId": "dcbc742c-3faa-4f0a-f046-f78b006d6a81"
      },
      "execution_count": null,
      "outputs": [
        {
          "output_type": "stream",
          "name": "stdout",
          "text": [
            "ยอดขายแต่ละปีของ PC\n",
            "   platform  year total_units_sold total_revenue_usd\n",
            "0        PC  2000             6.98            400.15\n",
            "1        PC  2001            17.77            722.16\n",
            "2        PC  2002             9.37            418.11\n",
            "3        PC  2003             9.40            573.45\n",
            "4        PC  2004            11.43            795.93\n",
            "5        PC  2005             1.21             33.14\n",
            "6        PC  2006             7.15            379.45\n",
            "7        PC  2007             9.04            409.29\n",
            "8        PC  2008            13.81            510.66\n",
            "9        PC  2009             3.02            192.96\n",
            "10       PC  2010             3.01             67.88\n",
            "11       PC  2011            22.50           1034.96\n",
            "12       PC  2012             8.73            525.75\n",
            "13       PC  2013             3.62            187.96\n",
            "14       PC  2014            11.68            493.04\n",
            "15       PC  2015             5.26             59.73\n",
            "16       PC  2016            10.44            494.06\n",
            "17       PC  2017             9.83            462.19\n",
            "18       PC  2018            11.20            458.64\n",
            "19       PC  2019             8.04            575.66\n",
            "20       PC  2020            15.49            715.62\n",
            "21       PC  2021            18.02            641.19\n",
            "22       PC  2022             9.16            618.39\n",
            "23       PC  2023             3.40            151.99\n",
            "24       PC  2024             4.19             71.49\n"
          ]
        }
      ]
    }
  ]
}